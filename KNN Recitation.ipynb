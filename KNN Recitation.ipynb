{
 "cells": [
  {
   "cell_type": "markdown",
   "metadata": {},
   "source": [
    "# A Preview of Machine Learning ٩(^ᴗ^)۶\n",
    "![alt text](http://www.r2d3.us/static/pages/decision-trees-part-1/preview.png)\n",
    "###### What is a Classifier?\n",
    "\n",
    "A classifier is a function which takes an unlabeled (unclassified) data point and returns a predicted label. Each classifier is created using a learning algorithm, trained with a specific set of labeled data. \n",
    "\n",
    "###### What does it mean for a set of data to have labels? \n",
    "Think of a set of fruit widths, heights, colors, and weights. These measurements called features, so this set of data has four features. You give your learning algorithm this set of fruit observations along with the type of fruit (apple, banana, orange) corresponding to each data point. Apple, banana, and orange are the labels of this data set. The classifier trained using this data set and your learning algorithm of choice will be able to take a new input data of (width, height, color, weight) and give you a label: apple, banana, or orange.\n",
    "\n",
    "You can see the goal of creating a classifier trained to a set of data is to be able to take a new, unlabeled (unclassified) data point and predict with high accuracy the label of this unlabeled point, using its knowledge of the labeled points.\n",
    "\n",
    "In this homework, we will be using a specific learning algorithm called K-Nearest-Neighbors.\n"
   ]
  },
  {
   "cell_type": "markdown",
   "metadata": {},
   "source": [
    "###### What is a KNN Classifier?\n",
    "A KNN-Classifier is a classifier trained using the K-Nearest-Neighbors method. This classifier  slurps in a bunch of labeled data points, e.x. hundreds of fruit observations (width, height, color, weight) and then predicts the label of an unlabeled input by looking at the known data points closest to this input. \n",
    "\n",
    "Check [here](https://www.analyticsvidhya.com/blog/2014/10/introduction-k-neighbours-algorithm-clustering/) for a good visual explanatino of KNN.\n",
    "\n",
    "And click [this](http://wittawat.com/knn_boundary.html) for an interactive version. The author provides two classes which you can add data points for by clicking on the grid. He displaysthe resulting decision boundaries in red and blue. Decision boundaries are areas of classification. So if you input a data point that falls in the blue region, the classifier will predict blue.\n",
    "\n",
    "#### Example of some decision boundaries using three different training data sets\n",
    "\n",
    "![alt text](http://perclass.com/doc/kb/images/16_knn_decisions.png)"
   ]
  },
  {
   "cell_type": "code",
   "execution_count": null,
   "metadata": {
    "collapsed": true
   },
   "outputs": [],
   "source": []
  },
  {
   "cell_type": "code",
   "execution_count": null,
   "metadata": {
    "collapsed": true
   },
   "outputs": [],
   "source": []
  },
  {
   "cell_type": "markdown",
   "metadata": {},
   "source": [
    "# Matplotlib\n",
    "\n",
    "A useful visualization library in Python is [Matplotlib](http://matplotlib.org/).\n",
    "For this assignment, you'll only need to provide scatter plots of your data will colored points. This uses matplotlib.pyplot. Check [here](http://matplotlib.org/users/pyplot_tutorial.html) for a tutorial."
   ]
  },
  {
   "cell_type": "code",
   "execution_count": null,
   "metadata": {
    "collapsed": false
   },
   "outputs": [],
   "source": [
    "# Sets plots to appear inline with notebook\n",
    "%matplotlib inline \n",
    "# Default import statement as \"plt\"\n",
    "import matplotlib.pyplot as plt"
   ]
  },
  {
   "cell_type": "markdown",
   "metadata": {},
   "source": [
    "##### Initialize some x's and correponding y's"
   ]
  },
  {
   "cell_type": "code",
   "execution_count": null,
   "metadata": {
    "collapsed": true
   },
   "outputs": [],
   "source": [
    "x = [1, 2, 3, 4]\n",
    "y = [1, 4, 9, 16]"
   ]
  },
  {
   "cell_type": "markdown",
   "metadata": {},
   "source": [
    "##### Default pyplot is a line graph"
   ]
  },
  {
   "cell_type": "code",
   "execution_count": null,
   "metadata": {
    "collapsed": false
   },
   "outputs": [],
   "source": [
    "plt.plot(x, y) # Default line plot\n",
    "plt.axis([0, 6, 0, 20]) # axis boundaries"
   ]
  },
  {
   "cell_type": "markdown",
   "metadata": {},
   "source": [
    "##### Let's change this to a simple scatter plot by specifying the symbol as 'o'"
   ]
  },
  {
   "cell_type": "code",
   "execution_count": null,
   "metadata": {
    "collapsed": false
   },
   "outputs": [],
   "source": [
    "plt.plot(x, y, 'o') # 'o' shaped data points. If you don't specify this, it'll show a line.\n",
    "plt.axis([0, 6, 0, 20]) # axis boundaries"
   ]
  },
  {
   "cell_type": "markdown",
   "metadata": {},
   "source": [
    "##### Add some labels and change the symbol"
   ]
  },
  {
   "cell_type": "code",
   "execution_count": null,
   "metadata": {
    "collapsed": false
   },
   "outputs": [],
   "source": [
    "plt.plot(x, y, 'x') # 'x' shaped data points\n",
    "plt.title(\"Example diagram\") # Add a title\n",
    "plt.xlabel('Feature One') # Add axis labels\n",
    "plt.ylabel('Feature Two') # Add axis labels\n",
    "plt.axis([0, 6, 0, 20])"
   ]
  },
  {
   "cell_type": "markdown",
   "metadata": {},
   "source": [
    "## Everything You Need For The Homework's Plot\n",
    "#### A little pizzazz"
   ]
  },
  {
   "cell_type": "code",
   "execution_count": null,
   "metadata": {
    "collapsed": true
   },
   "outputs": [],
   "source": [
    "# Multiple classes of data\n",
    "x1 = [1, 2, 3, 4]\n",
    "y1 = [1, 4, 9, 16]\n",
    "x2 = [1, 1, 1, 2, 2.5, 3, 3, 4]\n",
    "y2 = [1, 2, 4, 4, 7.5, 9, 6, 16]"
   ]
  },
  {
   "cell_type": "code",
   "execution_count": null,
   "metadata": {
    "collapsed": false
   },
   "outputs": [],
   "source": [
    "# Organize the data\n",
    "data = {\"apples\": [x1, y1], \n",
    "        \"bananas\": [x2, y2]}\n",
    "styles = {\"apples\": 'ro', \n",
    "          \"bananas\": 'yv'}\n",
    "\n",
    "#Instead of subplots you can work with plt itself for the HW\n",
    "fig, ax = plt.subplots()\n",
    "ax.margins(0.05) # Add padding to graph margins\n",
    "\n",
    "# Plot the different data groups\n",
    "for group, data in data.items():\n",
    "    ax.plot(data[0], data[1], styles[group], label=group)\n",
    "    \n",
    "# Add some customization\n",
    "plt.title(\"Fruit Graph With Color Coding!\") # Add a title\n",
    "plt.xlabel('Fruit Height') # Add axis labels\n",
    "plt.ylabel('Fruit Width') # Add axis labels\n",
    "plt.axis([0, 6, 0, 20])\n",
    "\n",
    "ax.legend() # Show the key\n",
    "\n",
    "##add plt.show() here"
   ]
  },
  {
   "cell_type": "markdown",
   "metadata": {
    "collapsed": true
   },
   "source": [
    "### IMPORTANT Don't forget \"plt.show()\" at the end of your python code! Otherwise your graph won't pop up. Using ipython notebook with \"%matplotlib inline\"  lets the graph appear without this .show() call, so we don't have it here."
   ]
  },
  {
   "cell_type": "code",
   "execution_count": null,
   "metadata": {
    "collapsed": true
   },
   "outputs": [],
   "source": []
  },
  {
   "cell_type": "code",
   "execution_count": null,
   "metadata": {
    "collapsed": true
   },
   "outputs": [],
   "source": []
  },
  {
   "cell_type": "code",
   "execution_count": null,
   "metadata": {
    "collapsed": true
   },
   "outputs": [],
   "source": []
  },
  {
   "cell_type": "code",
   "execution_count": null,
   "metadata": {
    "collapsed": true
   },
   "outputs": [],
   "source": []
  }
 ],
 "metadata": {
  "anaconda-cloud": {},
  "kernelspec": {
   "display_name": "Python [Root]",
   "language": "python",
   "name": "Python [Root]"
  },
  "language_info": {
   "codemirror_mode": {
    "name": "ipython",
    "version": 3
   },
   "file_extension": ".py",
   "mimetype": "text/x-python",
   "name": "python",
   "nbconvert_exporter": "python",
   "pygments_lexer": "ipython3",
   "version": "3.5.2"
  }
 },
 "nbformat": 4,
 "nbformat_minor": 0
}
