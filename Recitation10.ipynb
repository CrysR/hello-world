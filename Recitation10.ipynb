{
 "cells": [
  {
   "cell_type": "markdown",
   "metadata": {},
   "source": [
    "True or False"
   ]
  },
  {
   "cell_type": "code",
   "execution_count": 1,
   "metadata": {
    "collapsed": false
   },
   "outputs": [
    {
     "name": "stdout",
     "output_type": "stream",
     "text": [
      "False\n"
     ]
    }
   ],
   "source": [
    "#1\n",
    "print(len((\"hello\"))==len((\"hello\",)))\n",
    "\n",
    "##False"
   ]
  },
  {
   "cell_type": "code",
   "execution_count": 2,
   "metadata": {
    "collapsed": false
   },
   "outputs": [
    {
     "name": "stdout",
     "output_type": "stream",
     "text": [
      "False\n",
      "True\n"
     ]
    }
   ],
   "source": [
    "#2\n",
    "mylist1 = [0 for i in range(10)]\n",
    "mylist2 = [0 for i in range(10)]\n",
    "print(mylist1 is mylist2)\n",
    "print(mylist1 == mylist2)\n",
    "\n",
    "##False\n",
    "##True"
   ]
  },
  {
   "cell_type": "code",
   "execution_count": null,
   "metadata": {
    "collapsed": true
   },
   "outputs": [],
   "source": [
    "#3\n",
    "d = {}\n",
    "d[\"hello\"] = 1\n",
    "d[2] = 2\n",
    "d[(1,2,3)] = 4\n",
    "\n",
    "print(\"2\" in d)\n",
    "print(1 in d)\n",
    "print((1,2,3) in d)\n",
    "\n",
    "##False\n",
    "##False\n",
    "##True"
   ]
  },
  {
   "cell_type": "markdown",
   "metadata": {},
   "source": [
    "Let’s practice a bit with recursion. You’ve undoubtedly already done this, but let’s see if you remember.\t\n",
    "  \n",
    "Fill in the following template for recursive fibonacci  \n",
    "\n",
    "def fibo(n):\n",
    "    if(__________):\n",
    "        return _____________\n",
    "    return ______________\n",
    "    \n",
    "    \n",
    "    \n",
    "Ans:\n",
    "\n",
    "def fibo(n):\n",
    "    if(n==0 or n==1):\n",
    "        return 1\n",
    "    return fibo(n-1)+fibo(n-2)\n",
    "    \n",
    "    "
   ]
  },
  {
   "cell_type": "markdown",
   "metadata": {},
   "source": [
    "Let’s make the problem a little harder. A new sequence was discovered called the Tetranacci sequence, where each term of the (zero-­‐indexed) sequence is the sum of the previous four terms, and the first four terms are all 1. So, it goes like: 1, 1, 1, 1, 4, 7, 13, 25,... \n",
    "\n",
    "\n",
    "Complete code for nth Tetranacci number:\n",
    "\n",
    "def tetra(n):\n",
    "    if(__________):\n",
    "        return _____________\n",
    "    return ______________\n",
    "    \n",
    "    \n",
    "    \n",
    "Ans:\n",
    "\n",
    "def tetra(n):\n",
    "    if(n<=3):\n",
    "        return 1\n",
    "    return tetra(n-1)+tetra(n-2)+tetra(n-3)+tetra(n-4)"
   ]
  },
  {
   "cell_type": "markdown",
   "metadata": {},
   "source": [
    "Write a recursive solution to find x^n without using any builtin functions\n",
    "\n",
    "def pow(x,n):\n",
    "    if(__________):\n",
    "        return _____________\n",
    "    return ______________\n",
    "    \n",
    "    \n",
    "    \n",
    "Ans:\n",
    "\n",
    "def pow(x,n):\n",
    "    if(n==0):\n",
    "        return 1\n",
    "    return x*pow(x,n-1)"
   ]
  },
  {
   "cell_type": "markdown",
   "metadata": {},
   "source": [
    "Define the mod function without using *,/,%\n",
    "\n",
    "def mod(a,b):#return a%b\n",
    "    if(_________):\n",
    "        return __________\n",
    "    return ____________\n",
    "\n",
    "\n",
    "Ans:\n",
    "    \n",
    "def mod(a,b):\n",
    "    if(a<b):\n",
    "        return a\n",
    "    return mod(a-b,b)"
   ]
  },
  {
   "cell_type": "code",
   "execution_count": null,
   "metadata": {
    "collapsed": true
   },
   "outputs": [],
   "source": [
    "Write the fibonacii to avoid multiple calls to the same value(i.e., using a dictionary)\n",
    "\n",
    "d = {0:1,1:1}\n",
    "def fibo(n):\n",
    "    if(n not in d):\n",
    "        d[n] = fibo(n-1)+fibo(n-2)\n",
    "    return d[n]\n",
    "\n",
    "\n",
    "Another way to do the same:\n",
    "\n",
    "d = {0:1,1:1}\n",
    "def fibo(n):\n",
    "    if(n not in d):\n",
    "        if((n-2) not in d):\n",
    "            fibo(n-2)\n",
    "        if((n-1) not in d):\n",
    "            fibo(n-1)\n",
    "        d[n] = d[n-1]+d[n-2]\n",
    "    return d[n]"
   ]
  }
 ],
 "metadata": {
  "celltoolbar": "Raw Cell Format",
  "kernelspec": {
   "display_name": "Python [Root]",
   "language": "python",
   "name": "Python [Root]"
  },
  "language_info": {
   "codemirror_mode": {
    "name": "ipython",
    "version": 3
   },
   "file_extension": ".py",
   "mimetype": "text/x-python",
   "name": "python",
   "nbconvert_exporter": "python",
   "pygments_lexer": "ipython3",
   "version": "3.5.2"
  }
 },
 "nbformat": 4,
 "nbformat_minor": 0
}
